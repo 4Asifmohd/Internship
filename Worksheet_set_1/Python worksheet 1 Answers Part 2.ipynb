{
 "cells": [
  {
   "cell_type": "code",
   "execution_count": 12,
   "id": "6eb2c60f-7de4-44bd-8dcc-8086f5003ce8",
   "metadata": {},
   "outputs": [
    {
     "name": "stdin",
     "output_type": "stream",
     "text": [
      "Enter any positive number to find its factorial =  7\n"
     ]
    },
    {
     "name": "stdout",
     "output_type": "stream",
     "text": [
      "The factorial of 7  is  5040\n"
     ]
    }
   ],
   "source": [
    "# 11. Write a python program to find the factorial of a number. \n",
    "\n",
    "num = int(input('Enter any positive number to find its factorial = '))\n",
    "factorial = 1\n",
    "\n",
    "if num<0:\n",
    "    print('No factorial for Negative number')\n",
    "elif num ==0 or num == 1:\n",
    "    print(\"factorial of O or 1 is 1\")\n",
    "else:\n",
    "    for i in range(1,num+1):\n",
    "        factorial *=i\n",
    "    print(\"The factorial of\",num,\" is \",factorial)\n",
    "    \n"
   ]
  },
  {
   "cell_type": "code",
   "execution_count": 24,
   "id": "0ac5cdd4-6828-4132-b8e4-1f7f6d785943",
   "metadata": {},
   "outputs": [
    {
     "name": "stdin",
     "output_type": "stream",
     "text": [
      "Enter any number:  4\n"
     ]
    },
    {
     "name": "stdout",
     "output_type": "stream",
     "text": [
      "4 It is composite number and not a prime\n"
     ]
    }
   ],
   "source": [
    "#12. Write a python program to find whether a number is prime or composite. \n",
    "num = int(input('Enter any number: '))\n",
    "if num>1:\n",
    "    for i in range(2,num):\n",
    "        if(num % i) ==0:\n",
    "            print(num, 'It is composite number and not a prime')\n",
    "            break\n",
    "    else:\n",
    "        print(num,'It is prime number')\n",
    "elif num ==0 or 1:\n",
    "    print(num,'is neither prime nor composite number')"
   ]
  },
  {
   "cell_type": "code",
   "execution_count": 29,
   "id": "795a9d3b-39c3-467b-b2d7-daebb7bb8629",
   "metadata": {},
   "outputs": [
    {
     "name": "stdin",
     "output_type": "stream",
     "text": [
      "Enter any word :  liril\n"
     ]
    },
    {
     "name": "stdout",
     "output_type": "stream",
     "text": [
      "liril is palindrome\n"
     ]
    }
   ],
   "source": [
    "#13. Write a python program to check whether a given string is palindrome or not.\n",
    "\n",
    "text= input('Enter any word : ' )\n",
    "reversal = text[::-1]\n",
    "\n",
    "if text ==reversal:\n",
    "    print(reversal + ' is palindrome')\n",
    "else:\n",
    "    print(reversal + ' not palindrom')\n",
    "    "
   ]
  },
  {
   "cell_type": "code",
   "execution_count": 32,
   "id": "3a9a5939-ea07-4b08-aec8-0d502c24e631",
   "metadata": {},
   "outputs": [
    {
     "name": "stdout",
     "output_type": "stream",
     "text": [
      "Hypotenuse = 5.0\n",
      "Adjacent = 3.0\n",
      "Opposite = 4.0\n",
      "Three side data present!\n"
     ]
    }
   ],
   "source": [
    "#14. Write a Python program to get the third side of right-angled triangle from two given sides.\n",
    "\n",
    "def pythagoras(opposite_side, adjacent_side, hypotenuse):\n",
    "    if opposite_side == str(\"x\"):\n",
    "        return \"Opposite = \" + str(((hypotenuse**2) - (adjacent_side**2))**0.5)\n",
    "    elif adjacent_side == str(\"x\"):\n",
    "        return \"Adjacent = \" + str(((hypotenuse**2) - (opposite_side**2))**0.5)\n",
    "    elif hypotenuse == str(\"x\"):\n",
    "        return \"Hypotenuse = \" + str(((opposite_side**2) + (adjacent_side**2))**0.5)\n",
    "    else:\n",
    "        return \"Three side data present!\" \n",
    "\n",
    "#Testing\n",
    "print(pythagoras(4, 3, 'x')) \n",
    "print(pythagoras(4, 'x', 5)) \n",
    "print(pythagoras('x', 3, 5)) \n",
    "print(pythagoras(4, 3, 5)) "
   ]
  },
  {
   "cell_type": "code",
   "execution_count": 34,
   "id": "6db59118-d6e4-4422-8957-e1a5139aa225",
   "metadata": {},
   "outputs": [
    {
     "name": "stdin",
     "output_type": "stream",
     "text": [
      "Enter input string :  wikipedia\n"
     ]
    },
    {
     "name": "stdout",
     "output_type": "stream",
     "text": [
      "Count of all characters in the string is:\n",
      " {'i': 3, 'k': 1, 'a': 1, 'p': 1, 'e': 1, 'w': 1, 'd': 1}\n"
     ]
    }
   ],
   "source": [
    "#15. Write a python program to print the frequency of each of the characters present in a given string.\n",
    "\n",
    "text=input('Enter input string : ')\n",
    "result={char:text.count(char) for char in set(text)}\n",
    "print(\"Count of all characters in the string is:\\n\", result)"
   ]
  },
  {
   "cell_type": "code",
   "execution_count": null,
   "id": "0dbb0441-b487-49f7-89ae-aed8a71d8abb",
   "metadata": {},
   "outputs": [],
   "source": []
  },
  {
   "cell_type": "code",
   "execution_count": null,
   "id": "43adbd59-8f15-4c6f-a412-79d157b2d920",
   "metadata": {},
   "outputs": [],
   "source": []
  },
  {
   "cell_type": "code",
   "execution_count": null,
   "id": "59b15a9e-43ab-4c32-837d-de3035b0cd5f",
   "metadata": {},
   "outputs": [],
   "source": []
  }
 ],
 "metadata": {
  "kernelspec": {
   "display_name": "Python 3 (ipykernel)",
   "language": "python",
   "name": "python3"
  },
  "language_info": {
   "codemirror_mode": {
    "name": "ipython",
    "version": 3
   },
   "file_extension": ".py",
   "mimetype": "text/x-python",
   "name": "python",
   "nbconvert_exporter": "python",
   "pygments_lexer": "ipython3",
   "version": "3.11.5"
  }
 },
 "nbformat": 4,
 "nbformat_minor": 5
}
