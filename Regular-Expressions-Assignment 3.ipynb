{
 "cells": [
  {
   "cell_type": "code",
   "execution_count": 1,
   "id": "d9aec653-93ec-45d4-a73c-ea533a2b9207",
   "metadata": {},
   "outputs": [],
   "source": [
    "import re\n",
    "import pandas as pd"
   ]
  },
  {
   "cell_type": "code",
   "execution_count": 2,
   "id": "d403c885-70e3-4ac7-8265-4a6527de11c8",
   "metadata": {},
   "outputs": [
    {
     "name": "stdout",
     "output_type": "stream",
     "text": [
      "Python:Exercises::PHP:exercises:\n"
     ]
    }
   ],
   "source": [
    "# Question 1- Write a Python program to replace all occurrences of a space, comma, or dot with a colon.\n",
    "\n",
    "Text = 'Python Exercises, PHP exercises.'\n",
    "pattern='[\\s,.]'\n",
    "\n",
    "Replace = re.sub(pattern,':',Text)\n",
    "print(Replace)"
   ]
  },
  {
   "cell_type": "code",
   "execution_count": 3,
   "id": "29de579d-86ce-4fa7-9c78-36918d22bb1a",
   "metadata": {},
   "outputs": [
    {
     "name": "stdout",
     "output_type": "stream",
     "text": [
      "         SUMMARY\n",
      "0    hello world\n",
      "1           test\n",
      "2  four five six\n"
     ]
    }
   ],
   "source": [
    "# Question 2-  Create a dataframe using the dictionary below and remove everything (commas (,), !, XXXX, ;, etc.) from the columns except words.\n",
    "df = pd.DataFrame({'SUMMARY' : ['hello, world!', 'XXXXX test', '123four, five:; six...']})\n",
    "\n",
    "#Syntax: Series.str.repalce(pattern,repl,n=-1,case=None,flags=0,regex=True)\n",
    "\n",
    "df['SUMMARY'] = df['SUMMARY'].str.replace('[^a-zA-Z\\s]+|XXXXX', '', regex=True)\n",
    "print(df)"
   ]
  },
  {
   "cell_type": "code",
   "execution_count": 4,
   "id": "99674b0f-87c1-475d-b6ce-8ad48d3152bf",
   "metadata": {},
   "outputs": [
    {
     "name": "stdout",
     "output_type": "stream",
     "text": [
      "['Emma', 'bask', 'etba', 'play', 'born', 'June', '12th']\n"
     ]
    }
   ],
   "source": [
    "#Question 3- Create a function in python to find all words that are at least 4 characters long in a string. The use of the re.compile() method is mandatory.\n",
    "\n",
    "Text =\"Emma is a basketball player who was born on June 12th\"\n",
    "pattern = r'\\w{4}'\n",
    "re_pattern=re.compile(pattern)\n",
    "result= re_pattern.findall(Text)\n",
    "print(result)"
   ]
  },
  {
   "cell_type": "code",
   "execution_count": 5,
   "id": "19ccc7ba-a068-4381-ac9c-bbfa684d35df",
   "metadata": {},
   "outputs": [
    {
     "name": "stdout",
     "output_type": "stream",
     "text": [
      "['Emma', 'baske', 'tball', 'playe', 'who', 'was', 'born', 'June', '12th']\n"
     ]
    }
   ],
   "source": [
    "#Question 4- Create a function in python to find all three, four, and five character words in a string. The use of the re.compile() method is mandatory.\n",
    "\n",
    "Text =\"Emma is a basketball player who was born on June 12th\"\n",
    "pattern = r'\\w{3,5}'\n",
    "re_pattern=re.compile(pattern)\n",
    "result= re_pattern.findall(Text)\n",
    "print(result)"
   ]
  },
  {
   "cell_type": "code",
   "execution_count": 6,
   "id": "5f1cc089-d648-4434-954c-5b5d33ff3478",
   "metadata": {},
   "outputs": [
    {
     "name": "stdout",
     "output_type": "stream",
     "text": [
      "['example .com', 'hr@fliprobo .com', 'github .com', 'Hello Data Science World', 'Data Scientist']\n"
     ]
    }
   ],
   "source": [
    "#Question 5- Create a function in Python to remove the parenthesis in a list of strings. The use of the re.compile() method is mandatory.\n",
    "sample_text= [\"example (.com)\", \"hr@fliprobo (.com)\", \"github (.com)\", \"Hello (Data Science World)\", \"Data (Scientist)\"]\n",
    "\n",
    "def remove_parentheses(strings):\n",
    "  pattern = re.compile(r\"\\(|\\)\")\n",
    "  modified_strings = []\n",
    "  for string in strings:\n",
    "      modified_string = re.sub(pattern, \"\", string)\n",
    "      modified_strings.append(modified_string)\n",
    "  return modified_strings\n",
    "\n",
    "\n",
    "result = remove_parentheses(sample_text)\n",
    "print(result)"
   ]
  },
  {
   "cell_type": "code",
   "execution_count": 7,
   "id": "31fcb894-4703-4fc8-bb2f-6edee08c3af1",
   "metadata": {},
   "outputs": [
    {
     "name": "stdout",
     "output_type": "stream",
     "text": [
      "[\"example \", \"hr@fliprobo \", \"github \", \"Hello \", \"Data \"]\n"
     ]
    }
   ],
   "source": [
    "# Question 6- Write a python program to remove the parenthesis area from the text stored in the text file using Regular Expression.\n",
    "#Sample Text: [\"example (.com)\", \"hr@fliprobo (.com)\", \"github (.com)\", \"Hello (Data Science World)\", \"Data (Scientist)\"]\n",
    "\n",
    "with open(\"text_file2.txt\") as file:\n",
    "    text=file.read()\n",
    "modified_text = re.sub(r'\\([^()]*\\)', '', text)\n",
    "print(modified_text)"
   ]
  },
  {
   "cell_type": "code",
   "execution_count": 8,
   "id": "951bdbe9-4e44-42a9-a6c0-9f69f1e2f77f",
   "metadata": {},
   "outputs": [
    {
     "name": "stdout",
     "output_type": "stream",
     "text": [
      "['Importance', 'Of', 'Regular', 'Expressions', 'In', 'Python']\n"
     ]
    }
   ],
   "source": [
    "#Question 7- Write a regular expression in Python to split a string into uppercase letters.\n",
    "\n",
    "Sample_text = \"ImportanceOfRegularExpressionsInPython\"\n",
    "\n",
    "Result=re.findall(r'[A-Z][a-z]*',Sample_text )\n",
    "print(Result)"
   ]
  },
  {
   "cell_type": "code",
   "execution_count": 9,
   "id": "8254fd24-deb1-4d0f-b67d-5b3df3711166",
   "metadata": {},
   "outputs": [
    {
     "name": "stdout",
     "output_type": "stream",
     "text": [
      "['RegularExpression', '1IsAn', '2ImportantTopic', '3InPython']\n"
     ]
    }
   ],
   "source": [
    "#Question 8- Create a function in python to insert spaces between words starting with numbers.\n",
    "\n",
    "Sample_text = \"RegularExpression1IsAn2ImportantTopic3InPython\"\n",
    "pattern = r'[A-Za-z0-9][A-Za-z]*'\n",
    "# pattern = r'[A-Z0-9]*[A-Za-z]*'\n",
    "Result=re.findall(pattern,Sample_text )\n",
    "print(Result)\n"
   ]
  },
  {
   "cell_type": "code",
   "execution_count": 10,
   "id": "c65ab870-5680-40af-bd31-5f33f7275095",
   "metadata": {},
   "outputs": [
    {
     "name": "stdout",
     "output_type": "stream",
     "text": [
      " Regular Expression1 Is An2 Important Topic3 In Python\n"
     ]
    }
   ],
   "source": [
    "#Question 9- Create a function in python to insert spaces between words starting with capital letters or with numbers.\n",
    "\n",
    "def space(text):\n",
    "    pattern = r'([A-Z][a-z0-9]+|\\d+)'\n",
    "    return re.sub(pattern, r' \\1', text)\n",
    "\n",
    "Sample_Text= \"RegularExpression1IsAn2ImportantTopic3InPython\"\n",
    "result = space(Sample_Text)\n",
    "print(result)"
   ]
  },
  {
   "cell_type": "code",
   "execution_count": 11,
   "id": "a9681dd2-89dc-4a00-a662-752f81e97fcf",
   "metadata": {},
   "outputs": [
    {
     "name": "stdout",
     "output_type": "stream",
     "text": [
      "       Country          Region  Happiness Rank  Happiness Score  \\\n",
      "0  Switzerland  Western Europe               1            7.587   \n",
      "1      Iceland  Western Europe               2            7.561   \n",
      "2      Denmark  Western Europe               3            7.527   \n",
      "3       Norway  Western Europe               4            7.522   \n",
      "4       Canada   North America               5            7.427   \n",
      "\n",
      "   Standard Error  Economy (GDP per Capita)   Family  \\\n",
      "0         0.03411                   1.39651  1.34951   \n",
      "1         0.04884                   1.30232  1.40223   \n",
      "2         0.03328                   1.32548  1.36058   \n",
      "3         0.03880                   1.45900  1.33095   \n",
      "4         0.03553                   1.32629  1.32261   \n",
      "\n",
      "   Health (Life Expectancy)  Freedom  Trust (Government Corruption)  \\\n",
      "0                   0.94143  0.66557                        0.41978   \n",
      "1                   0.94784  0.62877                        0.14145   \n",
      "2                   0.87464  0.64938                        0.48357   \n",
      "3                   0.88521  0.66973                        0.36503   \n",
      "4                   0.90563  0.63297                        0.32957   \n",
      "\n",
      "   Generosity  Dystopia Residual  \n",
      "0     0.29678            2.51738  \n",
      "1     0.43630            2.70201  \n",
      "2     0.34139            2.49204  \n",
      "3     0.34699            2.46531  \n",
      "4     0.45811            2.45176  \n"
     ]
    }
   ],
   "source": [
    "#Question 10- Use the github link below to read the data and create a dataframe. After creating the dataframe extract the first 6 letters of each country and store in the dataframe under a new column called first_five_letters.\n",
    "#Github Link-  https://raw.githubusercontent.com/dsrscientist/DSData/master/happiness_score_dataset.csv\n",
    "\n",
    "url = 'https://raw.githubusercontent.com/dsrscientist/DSData/master/happiness_score_dataset.csv'\n",
    "df = pd.read_csv(url)\n",
    "#df= pd.read_csv(\"Happiness_score_index.csv\")\n",
    "print(df.head(5))"
   ]
  },
  {
   "cell_type": "code",
   "execution_count": 12,
   "id": "7cd27ce0-1121-4bc4-af80-35a227b2a62e",
   "metadata": {},
   "outputs": [
    {
     "data": {
      "text/html": [
       "<div>\n",
       "<style scoped>\n",
       "    .dataframe tbody tr th:only-of-type {\n",
       "        vertical-align: middle;\n",
       "    }\n",
       "\n",
       "    .dataframe tbody tr th {\n",
       "        vertical-align: top;\n",
       "    }\n",
       "\n",
       "    .dataframe thead th {\n",
       "        text-align: right;\n",
       "    }\n",
       "</style>\n",
       "<table border=\"1\" class=\"dataframe\">\n",
       "  <thead>\n",
       "    <tr style=\"text-align: right;\">\n",
       "      <th></th>\n",
       "      <th>Country</th>\n",
       "      <th>Region</th>\n",
       "      <th>Happiness Rank</th>\n",
       "      <th>Happiness Score</th>\n",
       "      <th>Standard Error</th>\n",
       "      <th>Economy (GDP per Capita)</th>\n",
       "      <th>Family</th>\n",
       "      <th>Health (Life Expectancy)</th>\n",
       "      <th>Freedom</th>\n",
       "      <th>Trust (Government Corruption)</th>\n",
       "      <th>Generosity</th>\n",
       "      <th>Dystopia Residual</th>\n",
       "      <th>first_five_letters</th>\n",
       "    </tr>\n",
       "  </thead>\n",
       "  <tbody>\n",
       "    <tr>\n",
       "      <th>0</th>\n",
       "      <td>Switzerland</td>\n",
       "      <td>Western Europe</td>\n",
       "      <td>1</td>\n",
       "      <td>7.587</td>\n",
       "      <td>0.03411</td>\n",
       "      <td>1.39651</td>\n",
       "      <td>1.34951</td>\n",
       "      <td>0.94143</td>\n",
       "      <td>0.66557</td>\n",
       "      <td>0.41978</td>\n",
       "      <td>0.29678</td>\n",
       "      <td>2.51738</td>\n",
       "      <td>Switze</td>\n",
       "    </tr>\n",
       "    <tr>\n",
       "      <th>1</th>\n",
       "      <td>Iceland</td>\n",
       "      <td>Western Europe</td>\n",
       "      <td>2</td>\n",
       "      <td>7.561</td>\n",
       "      <td>0.04884</td>\n",
       "      <td>1.30232</td>\n",
       "      <td>1.40223</td>\n",
       "      <td>0.94784</td>\n",
       "      <td>0.62877</td>\n",
       "      <td>0.14145</td>\n",
       "      <td>0.43630</td>\n",
       "      <td>2.70201</td>\n",
       "      <td>Icelan</td>\n",
       "    </tr>\n",
       "    <tr>\n",
       "      <th>2</th>\n",
       "      <td>Denmark</td>\n",
       "      <td>Western Europe</td>\n",
       "      <td>3</td>\n",
       "      <td>7.527</td>\n",
       "      <td>0.03328</td>\n",
       "      <td>1.32548</td>\n",
       "      <td>1.36058</td>\n",
       "      <td>0.87464</td>\n",
       "      <td>0.64938</td>\n",
       "      <td>0.48357</td>\n",
       "      <td>0.34139</td>\n",
       "      <td>2.49204</td>\n",
       "      <td>Denmar</td>\n",
       "    </tr>\n",
       "    <tr>\n",
       "      <th>3</th>\n",
       "      <td>Norway</td>\n",
       "      <td>Western Europe</td>\n",
       "      <td>4</td>\n",
       "      <td>7.522</td>\n",
       "      <td>0.03880</td>\n",
       "      <td>1.45900</td>\n",
       "      <td>1.33095</td>\n",
       "      <td>0.88521</td>\n",
       "      <td>0.66973</td>\n",
       "      <td>0.36503</td>\n",
       "      <td>0.34699</td>\n",
       "      <td>2.46531</td>\n",
       "      <td>Norway</td>\n",
       "    </tr>\n",
       "    <tr>\n",
       "      <th>4</th>\n",
       "      <td>Canada</td>\n",
       "      <td>North America</td>\n",
       "      <td>5</td>\n",
       "      <td>7.427</td>\n",
       "      <td>0.03553</td>\n",
       "      <td>1.32629</td>\n",
       "      <td>1.32261</td>\n",
       "      <td>0.90563</td>\n",
       "      <td>0.63297</td>\n",
       "      <td>0.32957</td>\n",
       "      <td>0.45811</td>\n",
       "      <td>2.45176</td>\n",
       "      <td>Canada</td>\n",
       "    </tr>\n",
       "  </tbody>\n",
       "</table>\n",
       "</div>"
      ],
      "text/plain": [
       "       Country          Region  Happiness Rank  Happiness Score  \\\n",
       "0  Switzerland  Western Europe               1            7.587   \n",
       "1      Iceland  Western Europe               2            7.561   \n",
       "2      Denmark  Western Europe               3            7.527   \n",
       "3       Norway  Western Europe               4            7.522   \n",
       "4       Canada   North America               5            7.427   \n",
       "\n",
       "   Standard Error  Economy (GDP per Capita)   Family  \\\n",
       "0         0.03411                   1.39651  1.34951   \n",
       "1         0.04884                   1.30232  1.40223   \n",
       "2         0.03328                   1.32548  1.36058   \n",
       "3         0.03880                   1.45900  1.33095   \n",
       "4         0.03553                   1.32629  1.32261   \n",
       "\n",
       "   Health (Life Expectancy)  Freedom  Trust (Government Corruption)  \\\n",
       "0                   0.94143  0.66557                        0.41978   \n",
       "1                   0.94784  0.62877                        0.14145   \n",
       "2                   0.87464  0.64938                        0.48357   \n",
       "3                   0.88521  0.66973                        0.36503   \n",
       "4                   0.90563  0.63297                        0.32957   \n",
       "\n",
       "   Generosity  Dystopia Residual first_five_letters  \n",
       "0     0.29678            2.51738             Switze  \n",
       "1     0.43630            2.70201             Icelan  \n",
       "2     0.34139            2.49204             Denmar  \n",
       "3     0.34699            2.46531             Norway  \n",
       "4     0.45811            2.45176             Canada  "
      ]
     },
     "execution_count": 12,
     "metadata": {},
     "output_type": "execute_result"
    }
   ],
   "source": [
    "df['first_five_letters'] = df['Country'].apply(lambda x: x[:6])\n",
    "df.head(5)"
   ]
  },
  {
   "cell_type": "code",
   "execution_count": 13,
   "id": "fa634a22-a0b2-4d0a-9688-941cffa10b89",
   "metadata": {},
   "outputs": [
    {
     "name": "stdout",
     "output_type": "stream",
     "text": [
      "['Hello', '', 'Data', '', 'Science', '', '1', '', '', 'oA', '']\n"
     ]
    }
   ],
   "source": [
    "#Question 11- Write a Python program to match a string that contains only upper and lowercase letters, numbers, and underscores.\n",
    "\n",
    "string1= \"Hello Data Science 1 %oA\"\n",
    "\n",
    "pattern= '\\w*'\n",
    "result=re.findall(pattern,string1)\n",
    "print(result)\n"
   ]
  },
  {
   "cell_type": "code",
   "execution_count": 14,
   "id": "50e05fc1-6e50-4dd7-a9e1-1aef8cb78dd0",
   "metadata": {},
   "outputs": [
    {
     "name": "stdout",
     "output_type": "stream",
     "text": [
      "True\n",
      "False\n"
     ]
    }
   ],
   "source": [
    "#Question 12- Write a Python program where a string will start with a specific number. \n",
    "\n",
    "def spe_num(string):\n",
    "    comp = re.compile(r\"^1\")\n",
    "    if comp.match(string):\n",
    "        return True\n",
    "    else:\n",
    "        return False\n",
    "print(spe_num('12345'))\n",
    "print(spe_num('23456'))"
   ]
  },
  {
   "cell_type": "code",
   "execution_count": 15,
   "id": "99a8ee78-8f56-4246-9a00-868306042362",
   "metadata": {},
   "outputs": [
    {
     "name": "stdout",
     "output_type": "stream",
     "text": [
      "192.168.86.8\n"
     ]
    }
   ],
   "source": [
    "#Question 13- Write a Python program to remove leading zeros from an IP address\n",
    "\n",
    "ip='192.168.086.08'\n",
    "zeros=re.sub('\\.[0]*','.',ip)\n",
    "print(zeros)"
   ]
  },
  {
   "cell_type": "code",
   "execution_count": 16,
   "id": "10d36c24-d2ec-40bd-a529-4e5b0724d02d",
   "metadata": {},
   "outputs": [
    {
     "name": "stdout",
     "output_type": "stream",
     "text": [
      "['August 15th 1947']\n"
     ]
    }
   ],
   "source": [
    "#Question 14- Write a regular expression in python to match a date string in the form of Month name followed by day number and year stored in a text file.\n",
    "#Sample text :  ' On August 15th 1947 that India was declared independent from British colonialism, and the reins of control were handed over to the leaders of the Country’.\n",
    "\n",
    "with open(\"text_file.txt\") as file:\n",
    "    text=file.read()\n",
    "\n",
    "pattern = r\"([A-Z][a-z]+ \\d{1,2}(?:st|nd|rd|th)? \\d{4})\"\n",
    "\n",
    "matches = re.findall(pattern, text)\n",
    "print(matches)\n"
   ]
  },
  {
   "cell_type": "code",
   "execution_count": 17,
   "id": "7e170068-e35f-4470-a7f4-6119660c7be0",
   "metadata": {},
   "outputs": [
    {
     "name": "stdout",
     "output_type": "stream",
     "text": [
      "Searching for \"fox\" in \"The quick brown fox jumps over the lazy dog.\" ->\n",
      "Matched!\n",
      "Searching for \"dog\" in \"The quick brown fox jumps over the lazy dog.\" ->\n",
      "Matched!\n",
      "Searching for \"horse\" in \"The quick brown fox jumps over the lazy dog.\" ->\n",
      "Not Matched!\n"
     ]
    }
   ],
   "source": [
    "#Question 15- Write a Python program to search some literals strings in a string. \n",
    "text = 'The quick brown fox jumps over the lazy dog.'\n",
    "patterns = [ 'fox', 'dog', 'horse' ]\n",
    "\n",
    "for pattern in patterns:\n",
    "    print('Searching for \"%s\" in \"%s\" ->' % (pattern, text),)\n",
    "    if re.search(pattern,  text):\n",
    "        print('Matched!')\n",
    "    else:\n",
    "        print('Not Matched!')"
   ]
  },
  {
   "cell_type": "code",
   "execution_count": 18,
   "id": "5631199c-b68f-4056-96ff-e9fc1bec566a",
   "metadata": {},
   "outputs": [
    {
     "name": "stdout",
     "output_type": "stream",
     "text": [
      "Found \"fox\" in \"The quick brown fox jumps over the lazy dog.\" from 16 to 19 \n"
     ]
    }
   ],
   "source": [
    "#Question 16- Write a Python program to search a literals string in a string and also find the location within the original string where the pattern occurs\n",
    "text = 'The quick brown fox jumps over the lazy dog.'\n",
    "\n",
    "pattern = 'fox'\n",
    "text = 'The quick brown fox jumps over the lazy dog.'\n",
    "match = re.search(pattern, text)\n",
    "s = match.start()\n",
    "e = match.end()\n",
    "print('Found \"%s\" in \"%s\" from %d to %d ' % (match.re.pattern, match.string, s, e))"
   ]
  },
  {
   "cell_type": "code",
   "execution_count": 19,
   "id": "51e23636-0838-4bb0-8bbd-270f3c69921d",
   "metadata": {},
   "outputs": [
    {
     "name": "stdout",
     "output_type": "stream",
     "text": [
      "Found \"exercises\"\n",
      "Found \"exercises\"\n",
      "Found \"exercises\"\n"
     ]
    }
   ],
   "source": [
    "#Question 17- Write a Python program to find the substrings within a string.\n",
    "Sample_text = 'Python exercises, PHP exercises, C# exercises'\n",
    "Pattern = 'exercises'\n",
    "\n",
    "for match in re.findall(Pattern, Sample_text):\n",
    "    print('Found \"%s\"' % match)\n"
   ]
  },
  {
   "cell_type": "code",
   "execution_count": 20,
   "id": "02f9c82b-4992-4f0c-8319-692a0c30910a",
   "metadata": {},
   "outputs": [
    {
     "name": "stdout",
     "output_type": "stream",
     "text": [
      "Found \"exercises\" at 7:16\n",
      "Found \"exercises\" at 22:31\n",
      "Found \"exercises\" at 36:45\n"
     ]
    }
   ],
   "source": [
    "#Question 18- Write a Python program to find the occurrence and position of the substrings within a string.\n",
    "\n",
    "Sample_text = 'Python exercises, PHP exercises, C# exercises'\n",
    "Pattern = 'exercises'\n",
    "for match in re.finditer(Pattern, Sample_text):\n",
    "    s = match.start()\n",
    "    e = match.end()\n",
    "    print('Found \"%s\" at %d:%d' % (Sample_text[s:e], s, e))"
   ]
  },
  {
   "cell_type": "code",
   "execution_count": 21,
   "id": "540fde8f-c7bd-4609-92db-699310cf4a47",
   "metadata": {},
   "outputs": [
    {
     "name": "stdout",
     "output_type": "stream",
     "text": [
      "Original date in YYY-MM-DD Format:  2024-07-06\n",
      "New date in DD-MM-YYYY Format:  06-07-2024\n"
     ]
    }
   ],
   "source": [
    "#Question 19- Write a Python program to convert a date of yyyy-mm-dd format to dd-mm-yyyy format.\n",
    "\n",
    "def change_date_format(dt):\n",
    "        return re.sub(r'(\\d{4})-(\\d{1,2})-(\\d{1,2})', '\\\\3-\\\\2-\\\\1', dt)\n",
    "dt1 = \"2024-07-06\"\n",
    "print(\"Original date in YYY-MM-DD Format: \",dt1)\n",
    "print(\"New date in DD-MM-YYYY Format: \",change_date_format(dt1))"
   ]
  },
  {
   "cell_type": "code",
   "execution_count": 22,
   "id": "dd1c8d6f-fa78-400e-9bb9-6254dbe68df0",
   "metadata": {},
   "outputs": [
    {
     "name": "stdout",
     "output_type": "stream",
     "text": [
      "['01.12', '0132.12', '2.31', '145.8', '3.01', '27.25', '0.25']\n"
     ]
    }
   ],
   "source": [
    "# Question 20- Create a function in python to find all decimal numbers with a precision of 1 or 2 in a string. The use of the re.compile() method is mandatory.\n",
    "Sample_Text= \"01.12 0132.123 2.31875 145.8 3.01 27.25 0.25\"\n",
    "\n",
    "def find_decimals(string):\n",
    "  pattern = re.compile(r'\\d+\\.\\d{1,2}')\n",
    "  decimals = re.findall(pattern, string)\n",
    "  return decimals\n",
    "\n",
    "Result=find_decimals(Sample_Text)\n",
    "print(Result)"
   ]
  },
  {
   "cell_type": "code",
   "execution_count": 23,
   "id": "e291867b-f577-4c54-9d20-0a283cbc0235",
   "metadata": {},
   "outputs": [
    {
     "name": "stdout",
     "output_type": "stream",
     "text": [
      "\n",
      "10\n",
      "20\n",
      "30\n"
     ]
    }
   ],
   "source": [
    "#Question 21- Write a Python program to separate and print the numbers and their position of a given string.\n",
    "text = \"Ten10, Twenty 20, Thirty  30\"\n",
    "result = re.split(r\"\\D+\", text)\n",
    "# Print results.\n",
    "for element in result:\n",
    "    print(element)"
   ]
  },
  {
   "cell_type": "code",
   "execution_count": 24,
   "id": "9409a06c-27ea-463c-9662-b780bd93276c",
   "metadata": {},
   "outputs": [
    {
     "data": {
      "text/plain": [
       "'950'"
      ]
     },
     "execution_count": 24,
     "metadata": {},
     "output_type": "execute_result"
    }
   ],
   "source": [
    "#Question 22- Write a regular expression in python program to extract maximum/largest numeric value from a string.\n",
    "\n",
    "list='My marks in each semester are: 947, 896, 926, 524, 734, 950, 642'\n",
    "max(re.findall('\\d+', list), key = lambda x: int(x))\n"
   ]
  },
  {
   "cell_type": "code",
   "execution_count": 25,
   "id": "a930b8da-84c6-46d4-baff-018cfe019265",
   "metadata": {},
   "outputs": [
    {
     "name": "stdout",
     "output_type": "stream",
     "text": [
      "['Regular', 'Expression', 'Is', 'An', 'Important', 'Topic', 'In', 'Python']\n"
     ]
    }
   ],
   "source": [
    "#Question 23- Create a function in python to insert spaces between words starting with capital letters.\n",
    "Sample_Text= 'RegularExpressionIsAnImportantTopicInPython'\n",
    "\n",
    "Result=re.findall(r'[A-Z][a-z]*',Sample_Text)\n",
    "print(Result)\n"
   ]
  },
  {
   "cell_type": "code",
   "execution_count": 26,
   "id": "3ad22125-4134-430d-afb1-b984d126db4d",
   "metadata": {},
   "outputs": [
    {
     "name": "stdout",
     "output_type": "stream",
     "text": [
      "['Data', 'Science', 'Hello', 'World']\n"
     ]
    }
   ],
   "source": [
    "#Question 24- Python regex to find sequences of one upper case letter followed by lower case letters\n",
    "pattern = r'[A-Z][a-z]+'\n",
    "text = \"I am Data Science student. Hello World!\"\n",
    "\n",
    "matches = re.findall(pattern, text)\n",
    "print(matches)"
   ]
  },
  {
   "cell_type": "code",
   "execution_count": 27,
   "id": "ad6303cf-4dab-41d6-9cb4-076f830c24a3",
   "metadata": {},
   "outputs": [
    {
     "name": "stdout",
     "output_type": "stream",
     "text": [
      "Hello hello world\n"
     ]
    }
   ],
   "source": [
    "#Question 25- Write a Python program to remove continuous duplicate words from Sentence using Regular Expression.\n",
    "Sample_Text= \"Hello hello world world\"\n",
    "\n",
    "regex = r\"\\b(\\w+)(?:\\W+\\1\\b)+\"\n",
    "x=re.sub(regex, r'\\1', Sample_Text)\n",
    "print(x)"
   ]
  },
  {
   "cell_type": "code",
   "execution_count": 28,
   "id": "e47a4cc7-a6f1-457c-a817-62e7e3ad72ba",
   "metadata": {},
   "outputs": [
    {
     "name": "stdout",
     "output_type": "stream",
     "text": [
      "'Hello1' ends with alphanumeric: True\n",
      "'Python@' ends with alphanumeric: False\n",
      "'Iditect_' ends with alphanumeric: True\n",
      "'12345' ends with alphanumeric: True\n",
      "'abcde' ends with alphanumeric: True\n",
      "'!@#$%' ends with alphanumeric: False\n"
     ]
    }
   ],
   "source": [
    "#Question 26-  Write a python program using RegEx to accept string ending with alphanumeric character.\n",
    "def ends_with_alphanumeric(s):\n",
    "    \"\"\"Return True if the string ends with an alphanumeric character, otherwise False.\"\"\"\n",
    "    pattern = r'.*\\w$'\n",
    "    return bool(re.match(pattern, s))\n",
    "\n",
    "# Test cases\n",
    "test_strings = [\n",
    "\"Hello1\",\n",
    "\"Python@\",\n",
    "\"Iditect_\",\n",
    "\"12345\",\n",
    "\"abcde\",\n",
    "\"!@#$%\",\n",
    "]\n",
    "\n",
    "for s in test_strings:\n",
    "    print(f\"'{s}' ends with alphanumeric:\", ends_with_alphanumeric(s))"
   ]
  },
  {
   "cell_type": "code",
   "execution_count": 29,
   "id": "136977fa-a6b5-48dd-95f6-01bb332ec377",
   "metadata": {},
   "outputs": [
    {
     "data": {
      "text/plain": [
       "['Doltiwal', 'xyzabc', 'Demonetization']"
      ]
     },
     "execution_count": 29,
     "metadata": {},
     "output_type": "execute_result"
    }
   ],
   "source": [
    "#Question 27-Write a python program using RegEx to extract the hashtags.\n",
    "Sample_Text=  \"\"\"RT @kapil_kausik: #Doltiwal I mean #xyzabc is \"hurt\" by #Demonetization as the same has rendered USELESS <ed><U+00A0><U+00BD><ed><U+00B1><U+0089> \"acquired funds\" No wo\"\"\"\n",
    "\n",
    "re.findall(r\"#(\\w+)\", Sample_Text)\n"
   ]
  },
  {
   "cell_type": "code",
   "execution_count": 30,
   "id": "fb5556fe-8017-494b-a5cf-2c733c0a6026",
   "metadata": {},
   "outputs": [
    {
     "name": "stdout",
     "output_type": "stream",
     "text": [
      "@Jags123456 Bharat band on 28??<ed><ed>Those who  are protesting #demonetization  are all different party leaders\n"
     ]
    }
   ],
   "source": [
    "#Question 28- Write a python program using RegEx to remove <U+..> like symbols\n",
    "#Check the below sample text, there are strange symbols something of the sort <U+..> all over the place. You need to come up with a general Regex expression that will cover all such symbols.\n",
    "\n",
    "Sample_Text=  \"@Jags123456 Bharat band on 28??<ed><U+00A0><U+00BD><ed><U+00B8><U+0082>Those who  are protesting #demonetization  are all different party leaders\"\n",
    "pattern = r\"<U\\+\\w{4}>\"\n",
    "\n",
    "result = re.sub(pattern, \"\", Sample_Text)\n",
    "\n",
    "print(result)"
   ]
  },
  {
   "cell_type": "code",
   "execution_count": 31,
   "id": "5799b284-335c-4a37-9c6f-9c2f92241fbb",
   "metadata": {},
   "outputs": [
    {
     "name": "stdout",
     "output_type": "stream",
     "text": [
      "['12-09-1992', '15-12-1999']\n"
     ]
    }
   ],
   "source": [
    "#Question 29- Write a python program to extract dates from the text stored in the text file.\n",
    "#Sample_Text=  Ron was born on 12-09-1992 and he was admitted to school 15-12-1999.\n",
    "\n",
    "with open(\"text_file1.txt\") as file:\n",
    "    text=file.read()\n",
    "matches = re.findall(r'(\\d+-\\d+-\\d+)',text)\n",
    "\n",
    "print(matches)"
   ]
  },
  {
   "cell_type": "code",
   "execution_count": 32,
   "id": "fc2f603f-4dbf-4892-93e0-ceff84b03898",
   "metadata": {},
   "outputs": [
    {
     "name": "stdout",
     "output_type": "stream",
     "text": [
      " following example creates ArrayList a capacity elements. 4 elements added ArrayList ArrayList trimmed accordingly.\n"
     ]
    }
   ],
   "source": [
    "#Question 30- Create a function in python to remove all words from a string of length between 2 and 4.\n",
    "#The use of the re.compile() method is mandatory.\n",
    "\n",
    "Sample_Text=  \"The following example creates an ArrayList with a capacity of 50 elements. 4 elements are then added to the ArrayList and the ArrayList is trimmed accordingly.\"\n",
    "\n",
    "remove = re.compile(r'\\W*\\b\\w{2,4}\\b')\n",
    "print(remove.sub('', Sample_Text))\n"
   ]
  },
  {
   "cell_type": "code",
   "execution_count": null,
   "id": "63e661c7-8c7f-4f0c-ab20-ba796f4beec7",
   "metadata": {},
   "outputs": [],
   "source": []
  }
 ],
 "metadata": {
  "kernelspec": {
   "display_name": "Python 3 (ipykernel)",
   "language": "python",
   "name": "python3"
  },
  "language_info": {
   "codemirror_mode": {
    "name": "ipython",
    "version": 3
   },
   "file_extension": ".py",
   "mimetype": "text/x-python",
   "name": "python",
   "nbconvert_exporter": "python",
   "pygments_lexer": "ipython3",
   "version": "3.11.5"
  }
 },
 "nbformat": 4,
 "nbformat_minor": 5
}
