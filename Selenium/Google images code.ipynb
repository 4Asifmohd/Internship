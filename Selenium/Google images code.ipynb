{
 "cells": [
  {
   "cell_type": "code",
   "execution_count": 2,
   "id": "c4404a0d",
   "metadata": {},
   "outputs": [],
   "source": [
    "!pip install selenium\n",
    "!pip install bs4\n",
    "!pip install requests\n",
    "import selenium\n",
    "import pandas as pd\n",
    "from selenium import webdriver\n",
    "import warnings\n",
    "warnings.filterwarnings('ignore')\n",
    "from selenium.webdriver.chrome.service import Service\n",
    "from selenium.webdriver.common.by import By\n",
    "import time\n",
    "import re\n",
    "from bs4 import BeautifulSoup\n",
    "import requests"
   ]
  },
  {
   "cell_type": "code",
   "execution_count": null,
   "id": "014e2c74",
   "metadata": {},
   "outputs": [],
   "source": []
  },
  {
   "cell_type": "code",
   "execution_count": null,
   "id": "f9ed08fa",
   "metadata": {},
   "outputs": [],
   "source": []
  },
  {
   "cell_type": "code",
   "execution_count": null,
   "id": "d50a6b16",
   "metadata": {},
   "outputs": [],
   "source": []
  },
  {
   "cell_type": "code",
   "execution_count": 6,
   "id": "4dfc8610",
   "metadata": {},
   "outputs": [],
   "source": [
    "# Question no. 3:\n",
    "\n",
    "driver = webdriver.Chrome()\n",
    "\n",
    "driver.get(\"https://images.google.com/\")\n",
    "\n",
    "driver.maximize_window()\n",
    "time.sleep(2)\n",
    "\n",
    "#Searcing for and Extrating data for Fruits:\n",
    "\n",
    "designation=driver.find_element(By.XPATH,'/html/body/div[1]/div[3]/form/div[1]/div[1]/div[1]/div/div[2]/textarea') \n",
    "designation.send_keys('Hello')\n",
    "\n",
    "search=driver.find_element(By.XPATH,'//button[@class=\"HZVG1b Tg7LZd\"]')\n",
    "search.click()\n",
    "time.sleep(3)\n",
    "\n",
    "# new page search start\n",
    "search=driver.find_element(By.XPATH,'//textarea[@class=\"gLFyf\"]')\n",
    "search.clear()\n",
    "\n",
    "key=['Buses',\"monkey\"]\n",
    "Bin=[]\n",
    "for b in key:\n",
    "    search=driver.find_element(By.XPATH,'//textarea[@class=\"gLFyf\"]')\n",
    "    search.clear()\n",
    "    search.send_keys(b)\n",
    "    button=driver.find_element(By.XPATH,'//button[@class=\"HZVG1b Tg7LZd\"]')\n",
    "    button.click()\n",
    "    time.sleep(3)\n",
    "\n",
    "    #collect thumbnails, click it and collect url in limited number\n",
    "\n",
    "    \n",
    "    search1=driver.find_elements(By.XPATH,'//div[@class=\"H8Rx8c\"]')\n",
    "    for first in search1[:3]:\n",
    "        first.click()\n",
    "        time.sleep(5)\n",
    "        search2=driver.find_element(By.XPATH,'//img[@class=\"sFlh5c FyHeAf iPVvYb\"]')\n",
    "        Bin.append(search2.get_attribute('src'))\n",
    "    time.sleep(2)  \n",
    "    \n",
    "for i in range(len(Bin)):\n",
    "    print(\"Downloading Fruit image {0} of {1} images\".format(i,10))\n",
    "    response=requests.get(Bin[i])\n",
    "    file=open(r\"C:\\Users\\***\\Documents\\FlipRobo\\Test2.o\\F\"+str(i)+\".jpg\",\"wb\")\n",
    "    file.write(response.content)\n",
    "time.sleep(3) "
   ]
  },
  {
   "cell_type": "code",
   "execution_count": 10,
   "id": "86d347be",
   "metadata": {},
   "outputs": [],
   "source": [
    "print(len(Bin))"
   ]
  },
  {
   "cell_type": "code",
   "execution_count": null,
   "id": "1d41dd44",
   "metadata": {},
   "outputs": [],
   "source": []
  }
 ],
 "metadata": {
  "kernelspec": {
   "display_name": "Python 3 (ipykernel)",
   "language": "python",
   "name": "python3"
  },
  "language_info": {
   "codemirror_mode": {
    "name": "ipython",
    "version": 3
   },
   "file_extension": ".py",
   "mimetype": "text/x-python",
   "name": "python",
   "nbconvert_exporter": "python",
   "pygments_lexer": "ipython3",
   "version": "3.11.3"
  }
 },
 "nbformat": 4,
 "nbformat_minor": 5
}
