{
 "cells": [
  {
   "cell_type": "code",
   "execution_count": null,
   "id": "64c575a5-6594-4343-a47a-277710ea2833",
   "metadata": {},
   "outputs": [],
   "source": [
    "from selenium import webdriver\n",
    "from selenium.webdriver.common.by import By\n",
    "import time\n",
    "import requests\n",
    "from pathlib import Path"
   ]
  },
  {
   "cell_type": "code",
   "execution_count": null,
   "id": "d00276a2-cd8f-4597-96d1-f86511c44ad4",
   "metadata": {},
   "outputs": [],
   "source": [
    "from selenium import webdriver\n",
    "from selenium.webdriver.common.by import By\n",
    "import time\n",
    "import requests\n",
    "from pathlib import Path\n",
    "\n",
    "driver = webdriver.Chrome()\n",
    "\n",
    "driver.get(\"https://images.google.com/\")\n",
    "driver.maximize_window()\n",
    "time.sleep(2)\n",
    "\n",
    "# Searching for and extracting data for Fruits:\n",
    "designation = driver.find_element(By.XPATH, '/html/body/div[1]/div[3]/form/div[1]/div[1]/div[1]/div/div[2]/textarea')\n",
    "designation.send_keys('Hello')\n",
    "\n",
    "search = driver.find_element(By.XPATH, '//button[@class=\"HZVG1b Tg7LZd\"]')\n",
    "search.click()\n",
    "time.sleep(3)\n",
    "\n",
    "# New page search start\n",
    "search = driver.find_element(By.XPATH, '//textarea[@class=\"gLFyf\"]')\n",
    "search.clear()\n",
    "\n",
    "key = ['Buses', 'monkey']\n",
    "Bin = []\n",
    "\n",
    "for b in key:\n",
    "    search = driver.find_element(By.XPATH, '//textarea[@class=\"gLFyf\"]')\n",
    "    search.clear()\n",
    "    search.send_keys(b)\n",
    "    button = driver.find_element(By.XPATH, '//button[@class=\"HZVG1b Tg7LZd\"]')\n",
    "    button.click()\n",
    "    time.sleep(3)\n",
    "\n",
    "    # Collect thumbnails, click it and collect URL in limited number\n",
    "    search1 = driver.find_elements(By.XPATH, '//div[@class=\"H8Rx8c\"]')\n",
    "    for first in search1[:3]:\n",
    "        first.click()\n",
    "        time.sleep(5)\n",
    "        search2 = driver.find_element(By.XPATH, '/html/body/div[5]/div/div/div/div/div/div/c-wiz/div/div[2]/div[2]/div/div[2]/c-wiz/div/div[3]/div[1]/a/img')\n",
    "        Bin.append((b, search2.get_attribute('src')))\n",
    "    time.sleep(2)\n",
    "\n",
    "# Define the base directory for saving images\n",
    "base_dir = Path.cwd() / \"FlipRobo\"\n",
    "\n",
    "# Ensure the directory exists\n",
    "base_dir.mkdir(parents=True, exist_ok=True)\n",
    "\n",
    "for i, (key_name, img_url) in enumerate(Bin):\n",
    "    print(f\"Downloading image {i + 1} of {len(Bin)} images\")\n",
    "    response = requests.get(img_url)\n",
    "    file_path = base_dir / f\"{key_name}_{i}.jpg\"\n",
    "    with open(file_path, \"wb\") as file:\n",
    "        file.write(response.content)\n",
    "    time.sleep(3)\n"
   ]
  }
 ],
 "metadata": {
  "kernelspec": {
   "display_name": "Python 3 (ipykernel)",
   "language": "python",
   "name": "python3"
  },
  "language_info": {
   "codemirror_mode": {
    "name": "ipython",
    "version": 3
   },
   "file_extension": ".py",
   "mimetype": "text/x-python",
   "name": "python",
   "nbconvert_exporter": "python",
   "pygments_lexer": "ipython3",
   "version": "3.11.5"
  }
 },
 "nbformat": 4,
 "nbformat_minor": 5
}
